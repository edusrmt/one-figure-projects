{
  "nbformat": 4,
  "nbformat_minor": 0,
  "metadata": {
    "colab": {
      "name": "Final Data Science.ipynb",
      "provenance": [],
      "collapsed_sections": [],
      "toc_visible": true
    },
    "kernelspec": {
      "name": "python3",
      "display_name": "Python 3"
    }
  },
  "cells": [
    {
      "cell_type": "markdown",
      "metadata": {
        "id": "UueY4AaGnKH2"
      },
      "source": [
        "# Cleaning\r\n"
      ]
    },
    {
      "cell_type": "code",
      "metadata": {
        "id": "R5y-jMG5nMwj"
      },
      "source": [
        "import pandas as pd\r\n",
        "import matplotlib.pyplot as plt\r\n",
        "\r\n",
        "df_references = pd.read_csv('/content/cross_reference.csv', error_bad_lines=False)\r\n",
        "df_references['verse'] = df_references['verse'].astype(str)\r\n",
        "df_references['ref'] = df_references['ref'].astype(str)\r\n",
        "df_references['verse'] = df_references['verse'].str.zfill(8)\r\n",
        "df_references['ref'] = df_references['ref'].str.zfill(8)\r\n",
        "\r\n"
      ],
      "execution_count": null,
      "outputs": []
    },
    {
      "cell_type": "code",
      "metadata": {
        "id": "xZPwEu4onFjk"
      },
      "source": [
        "rank10 = df_references[df_references['rank'] >= 10]\r\n",
        "rank10[['verse','ref']].to_csv('cross_reference_r10.csv', index=False)\r\n",
        "\r\n",
        "final = rank10[['verse','ref']].copy()"
      ],
      "execution_count": null,
      "outputs": []
    },
    {
      "cell_type": "markdown",
      "metadata": {
        "id": "knRhU4lail_V"
      },
      "source": [
        "# Translating verses IDs\r\n"
      ]
    },
    {
      "cell_type": "code",
      "metadata": {
        "colab": {
          "base_uri": "https://localhost:8080/",
          "height": 204
        },
        "id": "A-H_Yn1GigWl",
        "outputId": "a025100d-5373-4f9f-c45e-625220643238"
      },
      "source": [
        "import pandas as pd\r\n",
        "\r\n",
        "books = pd.read_csv('books.csv')\r\n",
        "books.columns = ['number', 'book', 'testament', 'field']\r\n",
        "books = books[['number', 'book']].copy()\r\n",
        "books['number'] = books['number'].astype(str)\r\n",
        "books['number'] = books['number'].str.zfill(2)\r\n",
        "books.head()"
      ],
      "execution_count": null,
      "outputs": [
        {
          "output_type": "execute_result",
          "data": {
            "text/html": [
              "<div>\n",
              "<style scoped>\n",
              "    .dataframe tbody tr th:only-of-type {\n",
              "        vertical-align: middle;\n",
              "    }\n",
              "\n",
              "    .dataframe tbody tr th {\n",
              "        vertical-align: top;\n",
              "    }\n",
              "\n",
              "    .dataframe thead th {\n",
              "        text-align: right;\n",
              "    }\n",
              "</style>\n",
              "<table border=\"1\" class=\"dataframe\">\n",
              "  <thead>\n",
              "    <tr style=\"text-align: right;\">\n",
              "      <th></th>\n",
              "      <th>number</th>\n",
              "      <th>book</th>\n",
              "    </tr>\n",
              "  </thead>\n",
              "  <tbody>\n",
              "    <tr>\n",
              "      <th>0</th>\n",
              "      <td>01</td>\n",
              "      <td>Genesis</td>\n",
              "    </tr>\n",
              "    <tr>\n",
              "      <th>1</th>\n",
              "      <td>02</td>\n",
              "      <td>Exodus</td>\n",
              "    </tr>\n",
              "    <tr>\n",
              "      <th>2</th>\n",
              "      <td>03</td>\n",
              "      <td>Leviticus</td>\n",
              "    </tr>\n",
              "    <tr>\n",
              "      <th>3</th>\n",
              "      <td>04</td>\n",
              "      <td>Numbers</td>\n",
              "    </tr>\n",
              "    <tr>\n",
              "      <th>4</th>\n",
              "      <td>05</td>\n",
              "      <td>Deuteronomy</td>\n",
              "    </tr>\n",
              "  </tbody>\n",
              "</table>\n",
              "</div>"
            ],
            "text/plain": [
              "  number         book\n",
              "0     01      Genesis\n",
              "1     02       Exodus\n",
              "2     03    Leviticus\n",
              "3     04      Numbers\n",
              "4     05  Deuteronomy"
            ]
          },
          "metadata": {
            "tags": []
          },
          "execution_count": 29
        }
      ]
    },
    {
      "cell_type": "code",
      "metadata": {
        "colab": {
          "base_uri": "https://localhost:8080/"
        },
        "id": "gpBPjDO2jFbW",
        "outputId": "d1fed390-e88a-4eef-ba1b-3cbf4f0e0f5c"
      },
      "source": [
        "books_dict = {}\r\n",
        "\r\n",
        "for row in books.itertuples():\r\n",
        "    books_dict[getattr(row, 'number')] = getattr(row, 'book')\r\n",
        "\r\n",
        "books_dict"
      ],
      "execution_count": null,
      "outputs": [
        {
          "output_type": "execute_result",
          "data": {
            "text/plain": [
              "{'01': 'Genesis',\n",
              " '02': 'Exodus',\n",
              " '03': 'Leviticus',\n",
              " '04': 'Numbers',\n",
              " '05': 'Deuteronomy',\n",
              " '06': 'Joshua',\n",
              " '07': 'Judges',\n",
              " '08': 'Ruth',\n",
              " '09': '1 Samuel',\n",
              " '10': '2 Samuel',\n",
              " '11': '1 Kings',\n",
              " '12': '2 Kings',\n",
              " '13': '1 Chronicles',\n",
              " '14': '2 Chronicles',\n",
              " '15': 'Ezra',\n",
              " '16': 'Nehemiah',\n",
              " '17': 'Esther',\n",
              " '18': 'Job',\n",
              " '19': 'Psalms',\n",
              " '20': 'Proverbs',\n",
              " '21': 'Ecclesiastes',\n",
              " '22': 'Song of Solomon',\n",
              " '23': 'Isaiah',\n",
              " '24': 'Jeremiah',\n",
              " '25': 'Lamentations',\n",
              " '26': 'Ezekiel',\n",
              " '27': 'Daniel',\n",
              " '28': 'Hosea',\n",
              " '29': 'Joel',\n",
              " '30': 'Amos',\n",
              " '31': 'Obadiah',\n",
              " '32': 'Jonah',\n",
              " '33': 'Micah',\n",
              " '34': 'Nahum',\n",
              " '35': 'Habakkuk',\n",
              " '36': 'Zephaniah',\n",
              " '37': 'Haggai',\n",
              " '38': 'Zechariah',\n",
              " '39': 'Malachi',\n",
              " '40': 'Matthew',\n",
              " '41': 'Mark',\n",
              " '42': 'Luke',\n",
              " '43': 'John',\n",
              " '44': 'Acts',\n",
              " '45': 'Romans',\n",
              " '46': '1 Corinthians',\n",
              " '47': '2 Corinthians',\n",
              " '48': 'Galatians',\n",
              " '49': 'Ephesians',\n",
              " '50': 'Philippians',\n",
              " '51': 'Colossians',\n",
              " '52': '1 Thessalonians',\n",
              " '53': '2 Thessalonians',\n",
              " '54': '1 Timothy',\n",
              " '55': '2 Timothy',\n",
              " '56': 'Titus',\n",
              " '57': 'Philemon',\n",
              " '58': 'Hebrews',\n",
              " '59': 'James',\n",
              " '60': '1 Peter',\n",
              " '61': '2 Peter',\n",
              " '62': '1 John',\n",
              " '63': '2 John',\n",
              " '64': '3 John',\n",
              " '65': 'Jude',\n",
              " '66': 'Revelation'}"
            ]
          },
          "metadata": {
            "tags": []
          },
          "execution_count": 30
        }
      ]
    },
    {
      "cell_type": "code",
      "metadata": {
        "id": "0X9nq5t_jXyV"
      },
      "source": [
        "def translate_vid(vid):\r\n",
        "    return f\"{books_dict[vid[:2]]} {int(vid[2:5])}:{int(vid[5:])}\""
      ],
      "execution_count": null,
      "outputs": []
    },
    {
      "cell_type": "code",
      "metadata": {
        "id": "uedB3yttxxcb"
      },
      "source": [
        "final['verse'] = final['verse'].apply(translate_vid)\r\n",
        "final['ref'] = final['ref'].apply(translate_vid)"
      ],
      "execution_count": null,
      "outputs": []
    },
    {
      "cell_type": "code",
      "metadata": {
        "id": "iWTJI26xyL_B"
      },
      "source": [
        "final.to_csv('translated_references.csv', index=False)"
      ],
      "execution_count": null,
      "outputs": []
    },
    {
      "cell_type": "markdown",
      "metadata": {
        "id": "K8MNv78NTW2n"
      },
      "source": [
        "# Finding books in communities"
      ]
    },
    {
      "cell_type": "code",
      "metadata": {
        "id": "nwgcbcc4Tbn-"
      },
      "source": [
        "import pandas as pd \r\n",
        "\r\n",
        "# Using data generated after editions on gephi \r\n",
        "df_pg = pd.read_csv('/content/posgephi.csv')"
      ],
      "execution_count": null,
      "outputs": []
    },
    {
      "cell_type": "code",
      "metadata": {
        "colab": {
          "base_uri": "https://localhost:8080/",
          "height": 195
        },
        "id": "_AfbKQMOUjEy",
        "outputId": "62b2d207-5b28-40db-a879-8176aa73016f"
      },
      "source": [
        "df_pg.head()"
      ],
      "execution_count": null,
      "outputs": [
        {
          "output_type": "execute_result",
          "data": {
            "text/html": [
              "<div>\n",
              "<style scoped>\n",
              "    .dataframe tbody tr th:only-of-type {\n",
              "        vertical-align: middle;\n",
              "    }\n",
              "\n",
              "    .dataframe tbody tr th {\n",
              "        vertical-align: top;\n",
              "    }\n",
              "\n",
              "    .dataframe thead th {\n",
              "        text-align: right;\n",
              "    }\n",
              "</style>\n",
              "<table border=\"1\" class=\"dataframe\">\n",
              "  <thead>\n",
              "    <tr style=\"text-align: right;\">\n",
              "      <th></th>\n",
              "      <th>Id</th>\n",
              "      <th>Label</th>\n",
              "      <th>timeset</th>\n",
              "      <th>modularity_class</th>\n",
              "      <th>weighted indegree</th>\n",
              "      <th>weighted outdegree</th>\n",
              "      <th>weighted degree</th>\n",
              "    </tr>\n",
              "  </thead>\n",
              "  <tbody>\n",
              "    <tr>\n",
              "      <th>0</th>\n",
              "      <td>Genesis 1:1</td>\n",
              "      <td>Genesis 1:1</td>\n",
              "      <td>NaN</td>\n",
              "      <td>63</td>\n",
              "      <td>1</td>\n",
              "      <td>68</td>\n",
              "      <td>69</td>\n",
              "    </tr>\n",
              "    <tr>\n",
              "      <th>1</th>\n",
              "      <td>Exodus 20:11</td>\n",
              "      <td>Exodus 20:11</td>\n",
              "      <td>NaN</td>\n",
              "      <td>63</td>\n",
              "      <td>2</td>\n",
              "      <td>0</td>\n",
              "      <td>2</td>\n",
              "    </tr>\n",
              "    <tr>\n",
              "      <th>2</th>\n",
              "      <td>1 Chronicles 16:26</td>\n",
              "      <td>1 Chronicles 16:26</td>\n",
              "      <td>NaN</td>\n",
              "      <td>63</td>\n",
              "      <td>1</td>\n",
              "      <td>0</td>\n",
              "      <td>1</td>\n",
              "    </tr>\n",
              "    <tr>\n",
              "      <th>3</th>\n",
              "      <td>Nehemiah 9:6</td>\n",
              "      <td>Nehemiah 9:6</td>\n",
              "      <td>NaN</td>\n",
              "      <td>63</td>\n",
              "      <td>1</td>\n",
              "      <td>0</td>\n",
              "      <td>1</td>\n",
              "    </tr>\n",
              "    <tr>\n",
              "      <th>4</th>\n",
              "      <td>Job 38:4</td>\n",
              "      <td>Job 38:4</td>\n",
              "      <td>NaN</td>\n",
              "      <td>63</td>\n",
              "      <td>1</td>\n",
              "      <td>0</td>\n",
              "      <td>1</td>\n",
              "    </tr>\n",
              "  </tbody>\n",
              "</table>\n",
              "</div>"
            ],
            "text/plain": [
              "                   Id               Label  ...  weighted outdegree  weighted degree\n",
              "0         Genesis 1:1         Genesis 1:1  ...                  68               69\n",
              "1        Exodus 20:11        Exodus 20:11  ...                   0                2\n",
              "2  1 Chronicles 16:26  1 Chronicles 16:26  ...                   0                1\n",
              "3        Nehemiah 9:6        Nehemiah 9:6  ...                   0                1\n",
              "4            Job 38:4            Job 38:4  ...                   0                1\n",
              "\n",
              "[5 rows x 7 columns]"
            ]
          },
          "metadata": {
            "tags": []
          },
          "execution_count": 6
        }
      ]
    },
    {
      "cell_type": "code",
      "metadata": {
        "colab": {
          "base_uri": "https://localhost:8080/"
        },
        "id": "QJJn14YNUOP4",
        "outputId": "34b41848-7962-49ca-fa99-94276c1916c7"
      },
      "source": [
        "for community in df_pg['modularity_class'].value_counts().index[:5]:\r\n",
        "  selection = df_pg[df_pg['modularity_class'] == community].copy()\r\n",
        "  selection['Label'] = selection['Label'].str.replace('1', ' ')\r\n",
        "  selection['book'] = selection['Label'].str.split().str.get(0)\r\n",
        "  print(\"Community number:\", community)\r\n",
        "  print(selection['book'].unique(), \"\\n\")"
      ],
      "execution_count": null,
      "outputs": [
        {
          "output_type": "stream",
          "text": [
            "Community number: 69\n",
            "['Samuel' 'Kings' 'Isaiah' 'Jeremiah' 'Luke' 'John' 'Micah' 'Psalms'\n",
            " 'Zephaniah' 'Job' 'Ezekiel' 'Hosea' 'Joel' 'Amos' 'Zechariah'\n",
            " 'Revelation' 'Haggai' 'Matthew'] \n",
            "\n",
            "Community number: 4\n",
            "['Psalms' 'Genesis' 'Deuteronomy' 'Joshua' 'Kings' 'Isaiah' 'Jeremiah'\n",
            " 'Hebrews' 'Exodus' 'Chronicles' '2' 'Romans' 'Revelation' 'Job' 'Micah'\n",
            " 'Jonah' 'Proverbs' 'Luke' 'John' 'Daniel' 'Ezekiel' 'Matthew' 'Numbers'\n",
            " 'Samuel' 'Philippians' 'Timothy' 'Ephesians'] \n",
            "\n",
            "Community number: 33\n",
            "['Genesis' '2' 'Ephesians' 'Colossians' 'Matthew' 'Proverbs' 'Psalms'\n",
            " 'Isaiah' 'Jeremiah' 'Hebrews' 'Peter' 'Romans' 'Luke' 'Ecclesiastes'\n",
            " 'Corinthians' 'Job' 'Ezekiel' 'Revelation' 'John' 'Galatians' 'Leviticus'\n",
            " 'Thessalonians' 'James' 'Titus' 'Acts' 'Philippians' 'Chronicles' 'Mark'\n",
            " 'Jude' 'Timothy'] \n",
            "\n",
            "Community number: 63\n",
            "['Genesis' 'Exodus' 'Chronicles' 'Nehemiah' 'Job' 'Psalms' 'Proverbs'\n",
            " 'Isaiah' 'Jeremiah' 'Zechariah' 'Mark' 'John' 'Acts' 'Romans'\n",
            " 'Corinthians' 'Ephesians' 'Colossians' 'Hebrews' '2' 'Revelation'\n",
            " 'Matthew' 'Luke' 'Deuteronomy' 'Hosea' 'Numbers' 'Philippians' 'Titus'\n",
            " 'Timothy'] \n",
            "\n",
            "Community number: 32\n",
            "['Genesis' 'Corinthians' 'Leviticus' 'Jeremiah' '2' 'Deuteronomy'\n",
            " 'Matthew' 'Mark' 'Luke' 'John' 'Ezekiel' 'Micah' 'Proverbs' 'Psalms'\n",
            " 'Acts' 'Titus' 'Peter' 'Zechariah' 'Hebrews' 'Isaiah' 'Hosea' 'Romans'\n",
            " 'Revelation' 'James' 'Exodus' 'Galatians' 'Ephesians' 'Thessalonians'] \n",
            "\n"
          ],
          "name": "stdout"
        }
      ]
    }
  ]
}